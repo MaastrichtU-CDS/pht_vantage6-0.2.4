{
 "cells": [
  {
   "cell_type": "code",
   "execution_count": null,
   "metadata": {},
   "outputs": [],
   "source": [
    "# Server settings\n",
    "url = \"http://127.0.0.1:5000/api\"\n",
    "api_path=\"\"\n",
    "\n",
    "# Account settings\n",
    "username = \"test_1\"\n",
    "password = \"password\""
   ]
  },
  {
   "cell_type": "code",
   "execution_count": null,
   "metadata": {},
   "outputs": [],
   "source": [
    "#Authenticate and login to server\n",
    "\n",
    "import requests\n",
    "import json\n",
    "\n",
    "# Username / password\n",
    "json_data = {\n",
    "  \"username\": username,\n",
    "  \"password\": password\n",
    "}\n",
    "\n",
    "# HTTP request\n",
    "response = requests.post(\n",
    "  url + \"/token/user\", \n",
    "  json=json_data\n",
    ")\n",
    "\n",
    "# Obtain access tokens which later can be used to \n",
    "# post tasks and obtain the results\n",
    "data = response.json()\n",
    "access_token = data[\"access_token\"]\n",
    "refresh_token = data[\"refresh_token\"]\n",
    "\n"
   ]
  },
  {
   "cell_type": "code",
   "execution_count": null,
   "metadata": {},
   "outputs": [],
   "source": [
    "#Get all collaboration\n",
    "collaboration = requests.get(\n",
    "  url + \"/collaboration\", \n",
    "  headers=headers\n",
    ")\n",
    "\n",
    "print(collaboration.text)"
   ]
  },
  {
   "cell_type": "markdown",
   "metadata": {},
   "source": [
    "### Server api\n",
    "#### Collaboration\n",
    "    /api/collaboration                          (List of collaborations)\n",
    "    /api/collaboration/{id}                     (Get collaboration)\n",
    "    /api/collaboration/{id}/node                (List nodes in collaboration)\n",
    "    /api/collaboration/{id}/organization        (List organizations in collaboration)\n",
    "    /api/collaboration/{id}/task                (List tasks from collaboration)\n",
    "    \n",
    "\n",
    "#### Node\n",
    "    /api/node                                   (List of nodes)\n",
    "    /api/node/{id}                              (Get node)\n",
    "    /api/node/{id}/task                         (Get tasks from node)\n",
    "    \n",
    "#### Organization \n",
    "    /api/organization                           (List organizations)\n",
    "    /api/organization/{id}                      (Get organization)\n",
    "    /api/organization/collaboration/{id}        (Get collaborations from organization)\n",
    "    /api/organization/{id}/node                 (Get nodes from organization)\n",
    "    /api/organization/{id}                      (Get organization) \n",
    "    \n",
    "#### Result \n",
    "    /api/result                                  (List result)\n",
    "    /api/result/{id}                             (Get result)\n",
    "    \n",
    "#### Task \n",
    "    /api/task                                    (List task)\n",
    "    /api/task/{id}                               (Get task)\n",
    "    /api/task/{id}/result                        (Get task result)\n",
    "    \n",
    "    \n",
    "#### User\n",
    "    /api/user                                    (List user)\n",
    "    /api/user/{id}                               (Get user)\n",
    "    \n",
    "#### Other\n",
    "    /api/version                                 (Get version)    "
   ]
  },
  {
   "cell_type": "code",
   "execution_count": null,
   "metadata": {},
   "outputs": [],
   "source": []
  }
 ],
 "metadata": {
  "kernelspec": {
   "display_name": "Python 3",
   "language": "python",
   "name": "python3"
  },
  "language_info": {
   "codemirror_mode": {
    "name": "ipython",
    "version": 3
   },
   "file_extension": ".py",
   "mimetype": "text/x-python",
   "name": "python",
   "nbconvert_exporter": "python",
   "pygments_lexer": "ipython3",
   "version": "3.8.3"
  }
 },
 "nbformat": 4,
 "nbformat_minor": 2
}
