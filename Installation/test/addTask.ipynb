{
 "cells": [
  {
   "cell_type": "code",
   "execution_count": null,
   "metadata": {},
   "outputs": [],
   "source": [
    "# Server settings\n",
    "url = \"http://127.0.0.1:5000/api\"\n",
    "api_path=\"\"\n",
    "\n",
    "# Account settings\n",
    "username = \"test_1\"\n",
    "password = \"password\""
   ]
  },
  {
   "cell_type": "code",
   "execution_count": null,
   "metadata": {},
   "outputs": [],
   "source": [
    "import requests\n",
    "import json\n",
    "\n",
    "# Username / password\n",
    "json_data = {\n",
    "  \"username\": username,\n",
    "  \"password\": password\n",
    "}\n",
    "\n",
    "# HTTP request\n",
    "response = requests.post(\n",
    "  url + \"/token/user\", \n",
    "  json=json_data\n",
    ")\n",
    "\n",
    "# Obtain access tokens which later can be used to \n",
    "# post tasks and obtain the results\n",
    "data = response.json()\n",
    "access_token = data[\"access_token\"]\n",
    "refresh_token = data[\"refresh_token\"]\n",
    "\n",
    "# HTTP headers for authorization\n",
    "headers = {'Authorization': 'Bearer ' + access_token}"
   ]
  },
  {
   "cell_type": "code",
   "execution_count": null,
   "metadata": {},
   "outputs": [],
   "source": [
    "# HTTP headers for authorization\n",
    "headers = {'Authorization': 'Bearer ' + access_token}\n",
    "\n",
    "# task specification\n",
    "task_spec = {\n",
    "  \"description\": \"first computation task\",\n",
    "  \"image\": \"hello-world\",\n",
    "  \"input\": \"some input\",\n",
    "  \"name\": \"human readable\",\n",
    "  \"collaboration_id\":1                        #add collaboration id\n",
    "}\n",
    "\n",
    "task = requests.post(\n",
    "  f\"{url}{api_path}/task\", \n",
    "  headers=headers,\n",
    "  json=task_spec\n",
    ")"
   ]
  },
  {
   "cell_type": "code",
   "execution_count": null,
   "metadata": {},
   "outputs": [],
   "source": [
    "from time import sleep\n",
    "\n",
    "# Wait for all results\n",
    "task_details = task.json()\n",
    "task_id= task_details[\"id\"]\n",
    "\n",
    "# init of the while loop \n",
    "task = requests.get(\n",
    "  f\"{url}{api_path}/task/{task_id}\", \n",
    "  headers=headers\n",
    ")\n",
    "\n",
    "completion_status = task.json()\n",
    "while not completion_status:\n",
    "    task = requests.get(\n",
    "    f\"{url}{api_path}/task/{task_id}\",\n",
    "  \theaders=headers\n",
    "    )\n",
    "sleep(1)"
   ]
  },
  {
   "cell_type": "code",
   "execution_count": null,
   "metadata": {},
   "outputs": [],
   "source": [
    "#Get Result\n",
    "\n",
    "result = requests.get(\n",
    "    url + \"/result/{id}\",\n",
    "    headers=headers)\n",
    "\n",
    "print(result.text)"
   ]
  },
  {
   "cell_type": "code",
   "execution_count": null,
   "metadata": {},
   "outputs": [],
   "source": []
  }
 ],
 "metadata": {
  "kernelspec": {
   "display_name": "Python 3",
   "language": "python",
   "name": "python3"
  },
  "language_info": {
   "codemirror_mode": {
    "name": "ipython",
    "version": 3
   },
   "file_extension": ".py",
   "mimetype": "text/x-python",
   "name": "python",
   "nbconvert_exporter": "python",
   "pygments_lexer": "ipython3",
   "version": "3.8.3"
  }
 },
 "nbformat": 4,
 "nbformat_minor": 2
}
